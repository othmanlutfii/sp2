{
  "cells": [
    {
      "attachments": {},
      "cell_type": "markdown",
      "id": "dedc0c29",
      "metadata": {
        "id": "dedc0c29"
      },
      "source": [
        "## Import the required packages"
      ]
    },
    {
      "cell_type": "code",
      "execution_count": 20,
      "id": "78d585d3",
      "metadata": {
        "colab": {
          "base_uri": "https://localhost:8080/",
          "height": 373
        },
        "id": "78d585d3",
        "outputId": "fc0226aa-87a1-4d47-d8c3-f034b5bae74c"
      },
      "outputs": [],
      "source": [
        "import pandas as pd\n",
        "import yfinance as yf\n",
        "import datetime\n",
        "\n",
        "import pmdarima as pm\n",
        "\n",
        "import matplotlib.pyplot as plt\n",
        "import seaborn as sns\n",
        "sns.set()"
      ]
    },
    {
      "attachments": {},
      "cell_type": "markdown",
      "id": "5c43c8a6",
      "metadata": {
        "id": "5c43c8a6"
      },
      "source": [
        "## Select asset and time period"
      ]
    },
    {
      "cell_type": "code",
      "execution_count": 21,
      "id": "5714c374",
      "metadata": {
        "id": "5714c374"
      },
      "outputs": [],
      "source": [
        "start_training = datetime.date(2010, 1, 1)\n",
        "end_training = datetime.date(2020, 12, 31)\n",
        "start_testing = datetime.date(2021, 1, 1)\n",
        "end_testing = datetime.datetime.today()\n",
        "ticker = \"RELIANCE.NS\""
      ]
    },
    {
      "attachments": {},
      "cell_type": "markdown",
      "id": "a3932ae4",
      "metadata": {
        "id": "a3932ae4"
      },
      "source": [
        "## Download training data"
      ]
    },
    {
      "cell_type": "code",
      "execution_count": 22,
      "id": "732f2077",
      "metadata": {
        "id": "732f2077"
      },
      "outputs": [
        {
          "name": "stdout",
          "output_type": "stream",
          "text": [
            "Downloaded 2712 rows and 6 columns of RELIANCE.NS data\n"
          ]
        }
      ],
      "source": [
        "df_training = yf.download(ticker, start=start_training, end=end_training, progress=False)\n",
        "print(f\"Downloaded {df_training.shape[0]} rows and {df_training.shape[1]} columns of {ticker} data\")"
      ]
    },
    {
      "cell_type": "code",
      "execution_count": 23,
      "id": "ae4fa6fd",
      "metadata": {
        "id": "ae4fa6fd"
      },
      "outputs": [
        {
          "data": {
            "text/html": [
              "<div>\n",
              "<style scoped>\n",
              "    .dataframe tbody tr th:only-of-type {\n",
              "        vertical-align: middle;\n",
              "    }\n",
              "\n",
              "    .dataframe tbody tr th {\n",
              "        vertical-align: top;\n",
              "    }\n",
              "\n",
              "    .dataframe thead th {\n",
              "        text-align: right;\n",
              "    }\n",
              "</style>\n",
              "<table border=\"1\" class=\"dataframe\">\n",
              "  <thead>\n",
              "    <tr style=\"text-align: right;\">\n",
              "      <th></th>\n",
              "      <th>Open</th>\n",
              "      <th>High</th>\n",
              "      <th>Low</th>\n",
              "      <th>Close</th>\n",
              "      <th>Adj Close</th>\n",
              "      <th>Volume</th>\n",
              "    </tr>\n",
              "    <tr>\n",
              "      <th>Date</th>\n",
              "      <th></th>\n",
              "      <th></th>\n",
              "      <th></th>\n",
              "      <th></th>\n",
              "      <th></th>\n",
              "      <th></th>\n",
              "    </tr>\n",
              "  </thead>\n",
              "  <tbody>\n",
              "    <tr>\n",
              "      <th>2020-12-23</th>\n",
              "      <td>1930.000000</td>\n",
              "      <td>1951.449951</td>\n",
              "      <td>1920.650024</td>\n",
              "      <td>1943.849976</td>\n",
              "      <td>1931.800659</td>\n",
              "      <td>8999898</td>\n",
              "    </tr>\n",
              "    <tr>\n",
              "      <th>2020-12-24</th>\n",
              "      <td>1947.000000</td>\n",
              "      <td>1998.800049</td>\n",
              "      <td>1945.900024</td>\n",
              "      <td>1994.150024</td>\n",
              "      <td>1981.788940</td>\n",
              "      <td>9588577</td>\n",
              "    </tr>\n",
              "    <tr>\n",
              "      <th>2020-12-28</th>\n",
              "      <td>2006.699951</td>\n",
              "      <td>2018.000000</td>\n",
              "      <td>1995.300049</td>\n",
              "      <td>2003.300049</td>\n",
              "      <td>1990.882202</td>\n",
              "      <td>7947719</td>\n",
              "    </tr>\n",
              "    <tr>\n",
              "      <th>2020-12-29</th>\n",
              "      <td>2009.000000</td>\n",
              "      <td>2012.300049</td>\n",
              "      <td>1982.550049</td>\n",
              "      <td>1990.050049</td>\n",
              "      <td>1977.714355</td>\n",
              "      <td>8589407</td>\n",
              "    </tr>\n",
              "    <tr>\n",
              "      <th>2020-12-30</th>\n",
              "      <td>1995.250000</td>\n",
              "      <td>2007.199951</td>\n",
              "      <td>1975.550049</td>\n",
              "      <td>1995.500000</td>\n",
              "      <td>1983.130493</td>\n",
              "      <td>10173132</td>\n",
              "    </tr>\n",
              "  </tbody>\n",
              "</table>\n",
              "</div>"
            ],
            "text/plain": [
              "                   Open         High          Low        Close    Adj Close   \n",
              "Date                                                                          \n",
              "2020-12-23  1930.000000  1951.449951  1920.650024  1943.849976  1931.800659  \\\n",
              "2020-12-24  1947.000000  1998.800049  1945.900024  1994.150024  1981.788940   \n",
              "2020-12-28  2006.699951  2018.000000  1995.300049  2003.300049  1990.882202   \n",
              "2020-12-29  2009.000000  2012.300049  1982.550049  1990.050049  1977.714355   \n",
              "2020-12-30  1995.250000  2007.199951  1975.550049  1995.500000  1983.130493   \n",
              "\n",
              "              Volume  \n",
              "Date                  \n",
              "2020-12-23   8999898  \n",
              "2020-12-24   9588577  \n",
              "2020-12-28   7947719  \n",
              "2020-12-29   8589407  \n",
              "2020-12-30  10173132  "
            ]
          },
          "execution_count": 23,
          "metadata": {},
          "output_type": "execute_result"
        }
      ],
      "source": [
        "df_training.tail()"
      ]
    },
    {
      "attachments": {},
      "cell_type": "markdown",
      "id": "f377dd05",
      "metadata": {
        "id": "f377dd05"
      },
      "source": [
        "## Convert daily dataset to weekly dataset"
      ]
    },
    {
      "cell_type": "code",
      "execution_count": 24,
      "id": "0a0f7b6d",
      "metadata": {
        "id": "0a0f7b6d"
      },
      "outputs": [],
      "source": [
        "## Resampling to obtain weekly stock prices with the following rules\n",
        "## 'Open': first opening price of the month\n",
        "## 'High': max price of the month\n",
        "## 'Low': min price of the month of the month\n",
        "## 'Close' : closing price of the month\n",
        "## 'Adj Close' : adjusted closing price of the month\n",
        "\n",
        "df_training = df_training.resample('W').agg({'Open':'first', 'High':'max', 'Low': 'min', 'Close':'last', \n",
        "                                             'Adj Close':'last'})"
      ]
    },
    {
      "cell_type": "code",
      "execution_count": 25,
      "id": "7cb6c9d0",
      "metadata": {
        "id": "7cb6c9d0"
      },
      "outputs": [
        {
          "name": "stdout",
          "output_type": "stream",
          "text": [
            "              adj_close\n",
            "Date                   \n",
            "2020-12-06  1934.682739\n",
            "2020-12-13  1993.366821\n",
            "2020-12-20  1979.205078\n",
            "2020-12-27  1981.788940\n",
            "2021-01-03  1983.130493\n"
          ]
        }
      ],
      "source": [
        "df_training.drop(columns=[\"Open\", \"High\", \"Low\", \"Close\"], inplace=True)\n",
        "df_training.rename(columns = {'Adj Close': 'adj_close'}, inplace=True)\n",
        "print(df_training.tail())"
      ]
    },
    {
      "cell_type": "code",
      "execution_count": 26,
      "id": "317f7840",
      "metadata": {
        "id": "317f7840"
      },
      "outputs": [],
      "source": [
        "start_training_str = (start_training + pd.Timedelta(\"5 days\")).strftime(\"%B %Y\")\n",
        "end_training_str = (end_training - pd.Timedelta(\"5 days\")).strftime(\"%B %Y\")"
      ]
    },
    {
      "cell_type": "code",
      "execution_count": 27,
      "id": "2eb5b823",
      "metadata": {
        "id": "2eb5b823"
      },
      "outputs": [
        {
          "data": {
            "text/plain": [
              "<Axes: title={'center': 'RELIANCE.NS weekly adjusted close prices (January 2010 - December 2020)'}, xlabel='Date'>"
            ]
          },
          "execution_count": 27,
          "metadata": {},
          "output_type": "execute_result"
        },
        {
          "data": {
            "image/png": "[encoded data removed]",
            "text/plain": [
              "<Figure size 864x576 with 1 Axes>"
            ]
          },
          "metadata": {},
          "output_type": "display_data"
        }
      ],
      "source": [
        "sns.set(font_scale=1.2)\n",
        "df_training['adj_close'].plot(figsize=(12, 8), \n",
        "                     title=f\"{ticker} weekly adjusted close prices ({start_training_str} - {end_training_str})\")"
      ]
    },
    {
      "attachments": {},
      "cell_type": "markdown",
      "id": "47d00a02",
      "metadata": {
        "id": "47d00a02"
      },
      "source": [
        "## Model Selection"
      ]
    },
    {
      "cell_type": "code",
      "execution_count": 28,
      "id": "bca939a7",
      "metadata": {
        "id": "bca939a7"
      },
      "outputs": [
        {
          "data": {
            "text/html": [
              "<table class=\"simpletable\">\n",
              "<caption>SARIMAX Results</caption>\n",
              "<tr>\n",
              "  <th>Dep. Variable:</th>           <td>y</td>        <th>  No. Observations:  </th>    <td>574</td>   \n",
              "</tr>\n",
              "<tr>\n",
              "  <th>Model:</th>           <td>SARIMAX(3, 1, 2)</td> <th>  Log Likelihood     </th> <td>-2832.709</td>\n",
              "</tr>\n",
              "<tr>\n",
              "  <th>Date:</th>            <td>Mon, 29 May 2023</td> <th>  AIC                </th> <td>5679.418</td> \n",
              "</tr>\n",
              "<tr>\n",
              "  <th>Time:</th>                <td>09:22:50</td>     <th>  BIC                </th> <td>5709.875</td> \n",
              "</tr>\n",
              "<tr>\n",
              "  <th>Sample:</th>             <td>01-10-2010</td>    <th>  HQIC               </th> <td>5691.299</td> \n",
              "</tr>\n",
              "<tr>\n",
              "  <th></th>                   <td>- 01-03-2021</td>   <th>                     </th>     <td> </td>    \n",
              "</tr>\n",
              "<tr>\n",
              "  <th>Covariance Type:</th>        <td>opg</td>       <th>                     </th>     <td> </td>    \n",
              "</tr>\n",
              "</table>\n",
              "<table class=\"simpletable\">\n",
              "<tr>\n",
              "      <td></td>         <th>coef</th>     <th>std err</th>      <th>z</th>      <th>P>|z|</th>  <th>[0.025</th>    <th>0.975]</th>  \n",
              "</tr>\n",
              "<tr>\n",
              "  <th>intercept</th> <td>    6.9786</td> <td>    4.562</td> <td>    1.530</td> <td> 0.126</td> <td>   -1.962</td> <td>   15.920</td>\n",
              "</tr>\n",
              "<tr>\n",
              "  <th>ar.L1</th>     <td>   -1.2658</td> <td>    0.062</td> <td>  -20.466</td> <td> 0.000</td> <td>   -1.387</td> <td>   -1.145</td>\n",
              "</tr>\n",
              "<tr>\n",
              "  <th>ar.L2</th>     <td>   -0.5744</td> <td>    0.077</td> <td>   -7.467</td> <td> 0.000</td> <td>   -0.725</td> <td>   -0.424</td>\n",
              "</tr>\n",
              "<tr>\n",
              "  <th>ar.L3</th>     <td>    0.1408</td> <td>    0.029</td> <td>    4.914</td> <td> 0.000</td> <td>    0.085</td> <td>    0.197</td>\n",
              "</tr>\n",
              "<tr>\n",
              "  <th>ma.L1</th>     <td>    1.2864</td> <td>    0.060</td> <td>   21.548</td> <td> 0.000</td> <td>    1.169</td> <td>    1.403</td>\n",
              "</tr>\n",
              "<tr>\n",
              "  <th>ma.L2</th>     <td>    0.7356</td> <td>    0.066</td> <td>   11.112</td> <td> 0.000</td> <td>    0.606</td> <td>    0.865</td>\n",
              "</tr>\n",
              "<tr>\n",
              "  <th>sigma2</th>    <td> 1151.5104</td> <td>   31.815</td> <td>   36.194</td> <td> 0.000</td> <td> 1089.155</td> <td> 1213.866</td>\n",
              "</tr>\n",
              "</table>\n",
              "<table class=\"simpletable\">\n",
              "<tr>\n",
              "  <th>Ljung-Box (L1) (Q):</th>     <td>0.00</td>  <th>  Jarque-Bera (JB):  </th> <td>2783.55</td>\n",
              "</tr>\n",
              "<tr>\n",
              "  <th>Prob(Q):</th>                <td>0.97</td>  <th>  Prob(JB):          </th>  <td>0.00</td>  \n",
              "</tr>\n",
              "<tr>\n",
              "  <th>Heteroskedasticity (H):</th> <td>14.91</td> <th>  Skew:              </th>  <td>0.46</td>  \n",
              "</tr>\n",
              "<tr>\n",
              "  <th>Prob(H) (two-sided):</th>    <td>0.00</td>  <th>  Kurtosis:          </th>  <td>13.76</td> \n",
              "</tr>\n",
              "</table><br/><br/>Warnings:<br/>[1] Covariance matrix calculated using the outer product of gradients (complex-step)."
            ],
            "text/latex": [
              "\\begin{center}\n",
              "\\begin{tabular}{lclc}\n",
              "\\toprule\n",
              "\\textbf{Dep. Variable:}          &        y         & \\textbf{  No. Observations:  } &    574      \\\\\n",
              "\\textbf{Model:}                  & SARIMAX(3, 1, 2) & \\textbf{  Log Likelihood     } & -2832.709   \\\\\n",
              "\\textbf{Date:}                   & Mon, 29 May 2023 & \\textbf{  AIC                } &  5679.418   \\\\\n",
              "\\textbf{Time:}                   &     09:22:50     & \\textbf{  BIC                } &  5709.875   \\\\\n",
              "\\textbf{Sample:}                 &    01-10-2010    & \\textbf{  HQIC               } &  5691.299   \\\\\n",
              "\\textbf{}                        &   - 01-03-2021   & \\textbf{                     } &             \\\\\n",
              "\\textbf{Covariance Type:}        &       opg        & \\textbf{                     } &             \\\\\n",
              "\\bottomrule\n",
              "\\end{tabular}\n",
              "\\begin{tabular}{lcccccc}\n",
              "                   & \\textbf{coef} & \\textbf{std err} & \\textbf{z} & \\textbf{P$> |$z$|$} & \\textbf{[0.025} & \\textbf{0.975]}  \\\\\n",
              "\\midrule\n",
              "\\textbf{intercept} &       6.9786  &        4.562     &     1.530  &         0.126        &       -1.962    &       15.920     \\\\\n",
              "\\textbf{ar.L1}     &      -1.2658  &        0.062     &   -20.466  &         0.000        &       -1.387    &       -1.145     \\\\\n",
              "\\textbf{ar.L2}     &      -0.5744  &        0.077     &    -7.467  &         0.000        &       -0.725    &       -0.424     \\\\\n",
              "\\textbf{ar.L3}     &       0.1408  &        0.029     &     4.914  &         0.000        &        0.085    &        0.197     \\\\\n",
              "\\textbf{ma.L1}     &       1.2864  &        0.060     &    21.548  &         0.000        &        1.169    &        1.403     \\\\\n",
              "\\textbf{ma.L2}     &       0.7356  &        0.066     &    11.112  &         0.000        &        0.606    &        0.865     \\\\\n",
              "\\textbf{sigma2}    &    1151.5104  &       31.815     &    36.194  &         0.000        &     1089.155    &     1213.866     \\\\\n",
              "\\bottomrule\n",
              "\\end{tabular}\n",
              "\\begin{tabular}{lclc}\n",
              "\\textbf{Ljung-Box (L1) (Q):}     &  0.00 & \\textbf{  Jarque-Bera (JB):  } & 2783.55  \\\\\n",
              "\\textbf{Prob(Q):}                &  0.97 & \\textbf{  Prob(JB):          } &   0.00   \\\\\n",
              "\\textbf{Heteroskedasticity (H):} & 14.91 & \\textbf{  Skew:              } &   0.46   \\\\\n",
              "\\textbf{Prob(H) (two-sided):}    &  0.00 & \\textbf{  Kurtosis:          } &  13.76   \\\\\n",
              "\\bottomrule\n",
              "\\end{tabular}\n",
              "%\\caption{SARIMAX Results}\n",
              "\\end{center}\n",
              "\n",
              "Warnings: \\newline\n",
              " [1] Covariance matrix calculated using the outer product of gradients (complex-step)."
            ],
            "text/plain": [
              "<class 'statsmodels.iolib.summary.Summary'>\n",
              "\"\"\"\n",
              "                               SARIMAX Results                                \n",
              "==============================================================================\n",
              "Dep. Variable:                      y   No. Observations:                  574\n",
              "Model:               SARIMAX(3, 1, 2)   Log Likelihood               -2832.709\n",
              "Date:                Mon, 29 May 2023   AIC                           5679.418\n",
              "Time:                        09:22:50   BIC                           5709.875\n",
              "Sample:                    01-10-2010   HQIC                          5691.299\n",
              "                         - 01-03-2021                                         \n",
              "Covariance Type:                  opg                                         \n",
              "==============================================================================\n",
              "                 coef    std err          z      P>|z|      [0.025      0.975]\n",
              "------------------------------------------------------------------------------\n",
              "intercept      6.9786      4.562      1.530      0.126      -1.962      15.920\n",
              "ar.L1         -1.2658      0.062    -20.466      0.000      -1.387      -1.145\n",
              "ar.L2         -0.5744      0.077     -7.467      0.000      -0.725      -0.424\n",
              "ar.L3          0.1408      0.029      4.914      0.000       0.085       0.197\n",
              "ma.L1          1.2864      0.060     21.548      0.000       1.169       1.403\n",
              "ma.L2          0.7356      0.066     11.112      0.000       0.606       0.865\n",
              "sigma2      1151.5104     31.815     36.194      0.000    1089.155    1213.866\n",
              "===================================================================================\n",
              "Ljung-Box (L1) (Q):                   0.00   Jarque-Bera (JB):              2783.55\n",
              "Prob(Q):                              0.97   Prob(JB):                         0.00\n",
              "Heteroskedasticity (H):              14.91   Skew:                             0.46\n",
              "Prob(H) (two-sided):                  0.00   Kurtosis:                        13.76\n",
              "===================================================================================\n",
              "\n",
              "Warnings:\n",
              "[1] Covariance matrix calculated using the outer product of gradients (complex-step).\n",
              "\"\"\""
            ]
          },
          "execution_count": 28,
          "metadata": {},
          "output_type": "execute_result"
        }
      ],
      "source": [
        "## Fitting the model(With more tuning of the parameters)\n",
        "arima_fit = pm.auto_arima(df_training['adj_close'], error_action='ignore', suppress_warnings=True, stepwise=False, \n",
        "                           approximation=False, seasonal=False)\n",
        "\n",
        "## Printing a summary of the model\n",
        "arima_fit.summary()"
      ]
    },
    {
      "attachments": {},
      "cell_type": "markdown",
      "id": "43f45c29",
      "metadata": {
        "id": "43f45c29"
      },
      "source": [
        "## Testing data"
      ]
    },
    {
      "cell_type": "code",
      "execution_count": 29,
      "id": "5179907c",
      "metadata": {
        "id": "5179907c"
      },
      "outputs": [
        {
          "name": "stdout",
          "output_type": "stream",
          "text": [
            "Downloaded 594 rows and 6 columns of RELIANCE.NS data\n"
          ]
        }
      ],
      "source": [
        "df_testing = yf.download(ticker, start=start_testing, end=end_testing, progress=False)\n",
        "print(f\"Downloaded {df_testing.shape[0]} rows and {df_testing.shape[1]} columns of {ticker} data\")"
      ]
    },
    {
      "cell_type": "code",
      "execution_count": 30,
      "id": "3c16f025",
      "metadata": {
        "id": "3c16f025"
      },
      "outputs": [],
      "source": [
        "## Resampling to obtain weekly stock prices with the following rules\n",
        "## 'Open': first opening price of the month\n",
        "## 'High': max price of the month\n",
        "## 'Low': min price of the month\n",
        "## 'Close' and 'Adj Close': last closing price of the month\n",
        "\n",
        "df_testing = df_testing.resample('W').agg({'Open':'first', 'High':'max', 'Low': 'min', 'Close':'last', 'Adj Close':'last'})"
      ]
    },
    {
      "cell_type": "code",
      "execution_count": 31,
      "id": "b01abde2",
      "metadata": {
        "id": "b01abde2"
      },
      "outputs": [
        {
          "name": "stdout",
          "output_type": "stream",
          "text": [
            "              adj_close\n",
            "Date                   \n",
            "2021-01-03  1975.180176\n",
            "2021-01-10  1921.713623\n",
            "2021-01-17  1925.440308\n",
            "2021-01-24  2036.895386\n",
            "2021-01-31  1830.532349\n"
          ]
        }
      ],
      "source": [
        "df_testing.drop(columns=[\"Open\", \"High\", \"Low\", \"Close\"], inplace=True)\n",
        "df_testing.rename(columns = {'Adj Close': 'adj_close'}, inplace=True)\n",
        "print(df_testing.head())"
      ]
    },
    {
      "attachments": {},
      "cell_type": "markdown",
      "id": "47068180",
      "metadata": {
        "id": "47068180"
      },
      "source": [
        "## Forecast using testing data"
      ]
    },
    {
      "cell_type": "code",
      "execution_count": 32,
      "id": "6d1fbfa4",
      "metadata": {
        "id": "6d1fbfa4"
      },
      "outputs": [],
      "source": [
        "n_fcast1 = len(df_testing)"
      ]
    },
    {
      "cell_type": "code",
      "execution_count": 33,
      "id": "af66375d",
      "metadata": {
        "id": "af66375d"
      },
      "outputs": [],
      "source": [
        "arima_fcast = arima_fit.predict"
      ]
    },
    {
      "cell_type": "code",
      "execution_count": 37,
      "id": "a13fdb89",
      "metadata": {
        "id": "a13fdb89"
      },
      "outputs": [
        {
          "data": {
            "text/plain": [
              "<bound method ARIMA.predict of ARIMA(order=(3, 1, 2), scoring_args={}, suppress_warnings=True)>"
            ]
          },
          "execution_count": 37,
          "metadata": {},
          "output_type": "execute_result"
        }
      ],
      "source": [
        "arima_fcast"
      ]
    },
    {
      "cell_type": "code",
      "execution_count": 36,
      "id": "47bf92f8",
      "metadata": {
        "id": "47bf92f8"
      },
      "outputs": [
        {
          "ename": "TypeError",
          "evalue": "'method' object is not subscriptable",
          "output_type": "error",
          "traceback": [
            "\u001b[1;31m---------------------------------------------------------------------------\u001b[0m",
            "\u001b[1;31mTypeError\u001b[0m                                 Traceback (most recent call last)",
            "\u001b[1;32md:\\OneDrive - Universitas Airlangga\\Perkuliahan Duniawi\\Semester 6\\ML\\UAS\\DUKUN PASAR\\Copy_of_Stock_Price_Analysis_using_ARIMA.ipynb Cell 23\u001b[0m in \u001b[0;36m<cell line: 1>\u001b[1;34m()\u001b[0m\n\u001b[1;32m----> <a href='vscode-notebook-cell:/d%3A/OneDrive%20-%20Universitas%20Airlangga/Perkuliahan%20Duniawi/Semester%206/ML/UAS/DUKUN%20PASAR/Copy_of_Stock_Price_Analysis_using_ARIMA.ipynb#X31sZmlsZQ%3D%3D?line=0'>1</a>\u001b[0m arima_fcast \u001b[39m=\u001b[39m [pd\u001b[39m.\u001b[39mDataFrame(arima_fcast[\u001b[39m0\u001b[39;49m], columns\u001b[39m=\u001b[39m[\u001b[39m'\u001b[39m\u001b[39mprediction\u001b[39m\u001b[39m'\u001b[39m]),pd\u001b[39m.\u001b[39mDataFrame(arima_fcast[\u001b[39m1\u001b[39m], \n\u001b[0;32m      <a href='vscode-notebook-cell:/d%3A/OneDrive%20-%20Universitas%20Airlangga/Perkuliahan%20Duniawi/Semester%206/ML/UAS/DUKUN%20PASAR/Copy_of_Stock_Price_Analysis_using_ARIMA.ipynb#X31sZmlsZQ%3D%3D?line=1'>2</a>\u001b[0m                                                                                    columns\u001b[39m=\u001b[39m[\u001b[39m'\u001b[39m\u001b[39mlower_95\u001b[39m\u001b[39m'\u001b[39m, \u001b[39m'\u001b[39m\u001b[39mupper_95\u001b[39m\u001b[39m'\u001b[39m])]\n\u001b[0;32m      <a href='vscode-notebook-cell:/d%3A/OneDrive%20-%20Universitas%20Airlangga/Perkuliahan%20Duniawi/Semester%206/ML/UAS/DUKUN%20PASAR/Copy_of_Stock_Price_Analysis_using_ARIMA.ipynb#X31sZmlsZQ%3D%3D?line=3'>4</a>\u001b[0m arima_fcast \u001b[39m=\u001b[39m pd\u001b[39m.\u001b[39mconcat(arima_fcast, axis\u001b[39m=\u001b[39m\u001b[39m1\u001b[39m)\u001b[39m.\u001b[39mset_index(df_testing\u001b[39m.\u001b[39mindex)\n",
            "\u001b[1;31mTypeError\u001b[0m: 'method' object is not subscriptable"
          ]
        }
      ],
      "source": [
        "arima_fcast = [pd.DataFrame(arima_fcast[0], columns=['prediction']),pd.DataFrame(arima_fcast[1], \n",
        "                                                                                   columns=['lower_95', 'upper_95'])]\n",
        "\n",
        "arima_fcast = pd.concat(arima_fcast, axis=1).set_index(df_testing.index)"
      ]
    },
    {
      "cell_type": "code",
      "execution_count": null,
      "id": "bd14cc99",
      "metadata": {},
      "outputs": [],
      "source": [
        "arima_fcast_result = arima_fcast()  # Call the method to get the result\n",
        "\n",
        "# Access the elements of the result\n",
        "arima_prediction = pd.DataFrame(arima_fcast_result[0], columns=['prediction'])\n",
        "arima_confidence = pd.DataFrame(arima_fcast_result[1], columns=['lower_95', 'upper_95'])\n",
        "\n",
        "# Concatenate the dataframes and set the index\n",
        "arima_fcast_combined = pd.concat([arima_prediction, arima_confidence], axis=1).set_index(df_testing.index)\n"
      ]
    },
    {
      "cell_type": "code",
      "execution_count": null,
      "id": "7bfc7e78",
      "metadata": {
        "id": "7bfc7e78"
      },
      "outputs": [],
      "source": [
        "arima_fcast.head()"
      ]
    },
    {
      "attachments": {},
      "cell_type": "markdown",
      "id": "d9c20f47",
      "metadata": {
        "id": "d9c20f47"
      },
      "source": [
        "## Plot the results"
      ]
    },
    {
      "cell_type": "code",
      "execution_count": null,
      "id": "084c8eda",
      "metadata": {
        "id": "084c8eda"
      },
      "outputs": [],
      "source": [
        "fig, ax = plt.subplots(1, figsize=(12, 8))\n",
        "\n",
        "ax = sns.lineplot(data=df_testing['adj_close'], color='black', label='Actual')\n",
        "\n",
        "ax.plot(arima_fcast.prediction, color='red', label='ARIMA(3, 1, 2)')\n",
        "\n",
        "ax.fill_between(arima_fcast.index, arima_fcast.lower_95, \n",
        "                arima_fcast.upper_95, alpha=0.2, \n",
        "                facecolor='red')\n",
        "\n",
        "ax.set(title=f\"{ticker} stock price - actual vs. predicted\", xlabel='Date',\n",
        "       ylabel='Adjusted close price (US$)')\n",
        "ax.legend(loc='upper left')\n",
        "\n",
        "plt.tight_layout()\n",
        "plt.show()"
      ]
    },
    {
      "cell_type": "code",
      "execution_count": null,
      "id": "2c76f56b",
      "metadata": {
        "id": "2c76f56b"
      },
      "outputs": [],
      "source": []
    }
  ],
  "metadata": {
    "colab": {
      "provenance": []
    },
    "kernelspec": {
      "display_name": "Python 3 (ipykernel)",
      "language": "python",
      "name": "python3"
    },
    "language_info": {
      "codemirror_mode": {
        "name": "ipython",
        "version": 3
      },
      "file_extension": ".py",
      "mimetype": "text/x-python",
      "name": "python",
      "nbconvert_exporter": "python",
      "pygments_lexer": "ipython3",
      "version": "3.8.8"
    }
  },
  "nbformat": 4,
  "nbformat_minor": 5
}
