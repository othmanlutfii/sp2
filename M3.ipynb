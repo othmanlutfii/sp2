{
 "cells": [
  {
   "cell_type": "code",
   "execution_count": 4,
   "metadata": {},
   "outputs": [],
   "source": [
    "import pandas as pd\n",
    "import numpy as np\n",
    "import math\n",
    "import datetime as dt\n",
    "from sklearn.metrics import mean_squared_error, mean_absolute_error, explained_variance_score, r2_score \n",
    "from sklearn.metrics import mean_poisson_deviance, mean_gamma_deviance, accuracy_score\n",
    "from sklearn.preprocessing import MinMaxScaler\n",
    "import matplotlib.pyplot as plt\n",
    "\n",
    "from itertools import cycle\n",
    "\n",
    "# ! pip install plotly\n",
    "import plotly.graph_objects as go\n",
    "import plotly.express as px\n",
    "from plotly.subplots import make_subplots"
   ]
  },
  {
   "cell_type": "code",
   "execution_count": 5,
   "metadata": {},
   "outputs": [
    {
     "name": "stdout",
     "output_type": "stream",
     "text": [
      "[*********************100%***********************]  1 of 1 completed\n"
     ]
    },
    {
     "data": {
      "text/html": [
       "<div>\n",
       "<style scoped>\n",
       "    .dataframe tbody tr th:only-of-type {\n",
       "        vertical-align: middle;\n",
       "    }\n",
       "\n",
       "    .dataframe tbody tr th {\n",
       "        vertical-align: top;\n",
       "    }\n",
       "\n",
       "    .dataframe thead th {\n",
       "        text-align: right;\n",
       "    }\n",
       "</style>\n",
       "<table border=\"1\" class=\"dataframe\">\n",
       "  <thead>\n",
       "    <tr style=\"text-align: right;\">\n",
       "      <th></th>\n",
       "      <th>Open</th>\n",
       "      <th>High</th>\n",
       "      <th>Low</th>\n",
       "      <th>Close</th>\n",
       "      <th>Adj Close</th>\n",
       "      <th>Volume</th>\n",
       "      <th>company_name</th>\n",
       "    </tr>\n",
       "    <tr>\n",
       "      <th>Date</th>\n",
       "      <th></th>\n",
       "      <th></th>\n",
       "      <th></th>\n",
       "      <th></th>\n",
       "      <th></th>\n",
       "      <th></th>\n",
       "      <th></th>\n",
       "    </tr>\n",
       "  </thead>\n",
       "  <tbody>\n",
       "    <tr>\n",
       "      <th>2018-06-04</th>\n",
       "      <td>3150.0</td>\n",
       "      <td>3170.0</td>\n",
       "      <td>3100.0</td>\n",
       "      <td>3130.0</td>\n",
       "      <td>2594.125000</td>\n",
       "      <td>211936400</td>\n",
       "      <td>BBRI.JK</td>\n",
       "    </tr>\n",
       "    <tr>\n",
       "      <th>2018-06-05</th>\n",
       "      <td>3150.0</td>\n",
       "      <td>3160.0</td>\n",
       "      <td>3090.0</td>\n",
       "      <td>3110.0</td>\n",
       "      <td>2577.549072</td>\n",
       "      <td>135979600</td>\n",
       "      <td>BBRI.JK</td>\n",
       "    </tr>\n",
       "    <tr>\n",
       "      <th>2018-06-06</th>\n",
       "      <td>3120.0</td>\n",
       "      <td>3160.0</td>\n",
       "      <td>3090.0</td>\n",
       "      <td>3150.0</td>\n",
       "      <td>2610.701416</td>\n",
       "      <td>99509500</td>\n",
       "      <td>BBRI.JK</td>\n",
       "    </tr>\n",
       "    <tr>\n",
       "      <th>2018-06-07</th>\n",
       "      <td>3180.0</td>\n",
       "      <td>3270.0</td>\n",
       "      <td>3160.0</td>\n",
       "      <td>3270.0</td>\n",
       "      <td>2710.156006</td>\n",
       "      <td>183746200</td>\n",
       "      <td>BBRI.JK</td>\n",
       "    </tr>\n",
       "    <tr>\n",
       "      <th>2018-06-08</th>\n",
       "      <td>3210.0</td>\n",
       "      <td>3250.0</td>\n",
       "      <td>3110.0</td>\n",
       "      <td>3140.0</td>\n",
       "      <td>2602.412842</td>\n",
       "      <td>262972300</td>\n",
       "      <td>BBRI.JK</td>\n",
       "    </tr>\n",
       "    <tr>\n",
       "      <th>...</th>\n",
       "      <td>...</td>\n",
       "      <td>...</td>\n",
       "      <td>...</td>\n",
       "      <td>...</td>\n",
       "      <td>...</td>\n",
       "      <td>...</td>\n",
       "      <td>...</td>\n",
       "    </tr>\n",
       "    <tr>\n",
       "      <th>2023-05-25</th>\n",
       "      <td>5500.0</td>\n",
       "      <td>5575.0</td>\n",
       "      <td>5450.0</td>\n",
       "      <td>5475.0</td>\n",
       "      <td>5475.000000</td>\n",
       "      <td>224391900</td>\n",
       "      <td>BBRI.JK</td>\n",
       "    </tr>\n",
       "    <tr>\n",
       "      <th>2023-05-26</th>\n",
       "      <td>5425.0</td>\n",
       "      <td>5600.0</td>\n",
       "      <td>5425.0</td>\n",
       "      <td>5600.0</td>\n",
       "      <td>5600.000000</td>\n",
       "      <td>154003100</td>\n",
       "      <td>BBRI.JK</td>\n",
       "    </tr>\n",
       "    <tr>\n",
       "      <th>2023-05-29</th>\n",
       "      <td>5600.0</td>\n",
       "      <td>5625.0</td>\n",
       "      <td>5475.0</td>\n",
       "      <td>5550.0</td>\n",
       "      <td>5550.000000</td>\n",
       "      <td>125049100</td>\n",
       "      <td>BBRI.JK</td>\n",
       "    </tr>\n",
       "    <tr>\n",
       "      <th>2023-05-30</th>\n",
       "      <td>5500.0</td>\n",
       "      <td>5600.0</td>\n",
       "      <td>5500.0</td>\n",
       "      <td>5500.0</td>\n",
       "      <td>5500.000000</td>\n",
       "      <td>67363200</td>\n",
       "      <td>BBRI.JK</td>\n",
       "    </tr>\n",
       "    <tr>\n",
       "      <th>2023-05-31</th>\n",
       "      <td>5575.0</td>\n",
       "      <td>5575.0</td>\n",
       "      <td>5375.0</td>\n",
       "      <td>5575.0</td>\n",
       "      <td>5575.000000</td>\n",
       "      <td>898453700</td>\n",
       "      <td>BBRI.JK</td>\n",
       "    </tr>\n",
       "  </tbody>\n",
       "</table>\n",
       "<p>1240 rows × 7 columns</p>\n",
       "</div>"
      ],
      "text/plain": [
       "              Open    High     Low   Close    Adj Close     Volume   \n",
       "Date                                                                 \n",
       "2018-06-04  3150.0  3170.0  3100.0  3130.0  2594.125000  211936400  \\\n",
       "2018-06-05  3150.0  3160.0  3090.0  3110.0  2577.549072  135979600   \n",
       "2018-06-06  3120.0  3160.0  3090.0  3150.0  2610.701416   99509500   \n",
       "2018-06-07  3180.0  3270.0  3160.0  3270.0  2710.156006  183746200   \n",
       "2018-06-08  3210.0  3250.0  3110.0  3140.0  2602.412842  262972300   \n",
       "...            ...     ...     ...     ...          ...        ...   \n",
       "2023-05-25  5500.0  5575.0  5450.0  5475.0  5475.000000  224391900   \n",
       "2023-05-26  5425.0  5600.0  5425.0  5600.0  5600.000000  154003100   \n",
       "2023-05-29  5600.0  5625.0  5475.0  5550.0  5550.000000  125049100   \n",
       "2023-05-30  5500.0  5600.0  5500.0  5500.0  5500.000000   67363200   \n",
       "2023-05-31  5575.0  5575.0  5375.0  5575.0  5575.000000  898453700   \n",
       "\n",
       "           company_name  \n",
       "Date                     \n",
       "2018-06-04      BBRI.JK  \n",
       "2018-06-05      BBRI.JK  \n",
       "2018-06-06      BBRI.JK  \n",
       "2018-06-07      BBRI.JK  \n",
       "2018-06-08      BBRI.JK  \n",
       "...                 ...  \n",
       "2023-05-25      BBRI.JK  \n",
       "2023-05-26      BBRI.JK  \n",
       "2023-05-29      BBRI.JK  \n",
       "2023-05-30      BBRI.JK  \n",
       "2023-05-31      BBRI.JK  \n",
       "\n",
       "[1240 rows x 7 columns]"
      ]
     },
     "execution_count": 5,
     "metadata": {},
     "output_type": "execute_result"
    }
   ],
   "source": [
    "import scrap_data\n",
    "data_saham = scrap_data.ambil_data(\"bbri\")\n",
    "\n",
    "data_saham"
   ]
  },
  {
   "cell_type": "code",
   "execution_count": 6,
   "metadata": {},
   "outputs": [
    {
     "name": "stdout",
     "output_type": "stream",
     "text": [
      "Shape of close dataframe: (1240, 1)\n"
     ]
    }
   ],
   "source": [
    "\n",
    "closedf = data_saham.filter(['Close'])\n",
    "\n",
    "\n",
    "# closedf = data_saham[['Date','Close']]\n",
    "print(\"Shape of close dataframe:\", closedf.shape)"
   ]
  },
  {
   "cell_type": "code",
   "execution_count": 7,
   "metadata": {},
   "outputs": [
    {
     "name": "stdout",
     "output_type": "stream",
     "text": [
      "(1240, 1)\n"
     ]
    }
   ],
   "source": [
    "close_stock = closedf.copy()\n",
    "\n",
    "scaler=MinMaxScaler(feature_range=(0,1))\n",
    "closedf=scaler.fit_transform(np.array(closedf).reshape(-1,1))\n",
    "print(closedf.shape)"
   ]
  },
  {
   "cell_type": "code",
   "execution_count": 8,
   "metadata": {},
   "outputs": [
    {
     "data": {
      "text/html": [
       "<div>\n",
       "<style scoped>\n",
       "    .dataframe tbody tr th:only-of-type {\n",
       "        vertical-align: middle;\n",
       "    }\n",
       "\n",
       "    .dataframe tbody tr th {\n",
       "        vertical-align: top;\n",
       "    }\n",
       "\n",
       "    .dataframe thead th {\n",
       "        text-align: right;\n",
       "    }\n",
       "</style>\n",
       "<table border=\"1\" class=\"dataframe\">\n",
       "  <thead>\n",
       "    <tr style=\"text-align: right;\">\n",
       "      <th></th>\n",
       "      <th>Close</th>\n",
       "    </tr>\n",
       "    <tr>\n",
       "      <th>Date</th>\n",
       "      <th></th>\n",
       "    </tr>\n",
       "  </thead>\n",
       "  <tbody>\n",
       "    <tr>\n",
       "      <th>2018-06-04</th>\n",
       "      <td>3130.0</td>\n",
       "    </tr>\n",
       "    <tr>\n",
       "      <th>2018-06-05</th>\n",
       "      <td>3110.0</td>\n",
       "    </tr>\n",
       "    <tr>\n",
       "      <th>2018-06-06</th>\n",
       "      <td>3150.0</td>\n",
       "    </tr>\n",
       "    <tr>\n",
       "      <th>2018-06-07</th>\n",
       "      <td>3270.0</td>\n",
       "    </tr>\n",
       "    <tr>\n",
       "      <th>2018-06-08</th>\n",
       "      <td>3140.0</td>\n",
       "    </tr>\n",
       "    <tr>\n",
       "      <th>...</th>\n",
       "      <td>...</td>\n",
       "    </tr>\n",
       "    <tr>\n",
       "      <th>2023-05-25</th>\n",
       "      <td>5475.0</td>\n",
       "    </tr>\n",
       "    <tr>\n",
       "      <th>2023-05-26</th>\n",
       "      <td>5600.0</td>\n",
       "    </tr>\n",
       "    <tr>\n",
       "      <th>2023-05-29</th>\n",
       "      <td>5550.0</td>\n",
       "    </tr>\n",
       "    <tr>\n",
       "      <th>2023-05-30</th>\n",
       "      <td>5500.0</td>\n",
       "    </tr>\n",
       "    <tr>\n",
       "      <th>2023-05-31</th>\n",
       "      <td>5575.0</td>\n",
       "    </tr>\n",
       "  </tbody>\n",
       "</table>\n",
       "<p>1240 rows × 1 columns</p>\n",
       "</div>"
      ],
      "text/plain": [
       "             Close\n",
       "Date              \n",
       "2018-06-04  3130.0\n",
       "2018-06-05  3110.0\n",
       "2018-06-06  3150.0\n",
       "2018-06-07  3270.0\n",
       "2018-06-08  3140.0\n",
       "...            ...\n",
       "2023-05-25  5475.0\n",
       "2023-05-26  5600.0\n",
       "2023-05-29  5550.0\n",
       "2023-05-30  5500.0\n",
       "2023-05-31  5575.0\n",
       "\n",
       "[1240 rows x 1 columns]"
      ]
     },
     "execution_count": 8,
     "metadata": {},
     "output_type": "execute_result"
    }
   ],
   "source": [
    "close_stock"
   ]
  },
  {
   "cell_type": "code",
   "execution_count": 9,
   "metadata": {},
   "outputs": [
    {
     "name": "stdout",
     "output_type": "stream",
     "text": [
      "train_data:  (962, 1)\n",
      "test_data:  (278, 1)\n"
     ]
    }
   ],
   "source": [
    "training_size=int(len(closedf)*0.80)-30\n",
    "test_size=len(closedf)-training_size\n",
    "train_data,test_data=closedf[0:training_size,:],closedf[training_size:len(closedf),:1]\n",
    "print(\"train_data: \", train_data.shape)\n",
    "print(\"test_data: \", test_data.shape)"
   ]
  },
  {
   "cell_type": "code",
   "execution_count": 10,
   "metadata": {},
   "outputs": [],
   "source": [
    "# convert an array of values into a dataset matrix\n",
    "def create_dataset(dataset, time_step=1):\n",
    "    dataX, dataY = [], []\n",
    "    for i in range(len(dataset)-time_step-1):\n",
    "        a = dataset[i:(i+time_step), 0]   ###i=0, 0,1,2,3-----99   100 \n",
    "        dataX.append(a)\n",
    "        dataY.append(dataset[i + time_step, 0])\n",
    "    return np.array(dataX), np.array(dataY)"
   ]
  },
  {
   "cell_type": "code",
   "execution_count": 11,
   "metadata": {},
   "outputs": [
    {
     "name": "stdout",
     "output_type": "stream",
     "text": [
      "X_train:  (931, 30)\n",
      "y_train:  (931,)\n",
      "X_test:  (247, 30)\n",
      "y_test (247,)\n"
     ]
    }
   ],
   "source": [
    "# reshape into X=t,t+1,t+2,t+3 and Y=t+4\n",
    "time_step = 30\n",
    "X_train, y_train = create_dataset(train_data, time_step)\n",
    "X_test, y_test = create_dataset(test_data, time_step)\n",
    "\n",
    "print(\"X_train: \", X_train.shape)\n",
    "print(\"y_train: \", y_train.shape)\n",
    "print(\"X_test: \", X_test.shape)\n",
    "print(\"y_test\", y_test.shape)\n"
   ]
  },
  {
   "cell_type": "code",
   "execution_count": 12,
   "metadata": {},
   "outputs": [
    {
     "data": {
      "text/html": [
       "<style>#sk-container-id-1 {color: black;background-color: white;}#sk-container-id-1 pre{padding: 0;}#sk-container-id-1 div.sk-toggleable {background-color: white;}#sk-container-id-1 label.sk-toggleable__label {cursor: pointer;display: block;width: 100%;margin-bottom: 0;padding: 0.3em;box-sizing: border-box;text-align: center;}#sk-container-id-1 label.sk-toggleable__label-arrow:before {content: \"▸\";float: left;margin-right: 0.25em;color: #696969;}#sk-container-id-1 label.sk-toggleable__label-arrow:hover:before {color: black;}#sk-container-id-1 div.sk-estimator:hover label.sk-toggleable__label-arrow:before {color: black;}#sk-container-id-1 div.sk-toggleable__content {max-height: 0;max-width: 0;overflow: hidden;text-align: left;background-color: #f0f8ff;}#sk-container-id-1 div.sk-toggleable__content pre {margin: 0.2em;color: black;border-radius: 0.25em;background-color: #f0f8ff;}#sk-container-id-1 input.sk-toggleable__control:checked~div.sk-toggleable__content {max-height: 200px;max-width: 100%;overflow: auto;}#sk-container-id-1 input.sk-toggleable__control:checked~label.sk-toggleable__label-arrow:before {content: \"▾\";}#sk-container-id-1 div.sk-estimator input.sk-toggleable__control:checked~label.sk-toggleable__label {background-color: #d4ebff;}#sk-container-id-1 div.sk-label input.sk-toggleable__control:checked~label.sk-toggleable__label {background-color: #d4ebff;}#sk-container-id-1 input.sk-hidden--visually {border: 0;clip: rect(1px 1px 1px 1px);clip: rect(1px, 1px, 1px, 1px);height: 1px;margin: -1px;overflow: hidden;padding: 0;position: absolute;width: 1px;}#sk-container-id-1 div.sk-estimator {font-family: monospace;background-color: #f0f8ff;border: 1px dotted black;border-radius: 0.25em;box-sizing: border-box;margin-bottom: 0.5em;}#sk-container-id-1 div.sk-estimator:hover {background-color: #d4ebff;}#sk-container-id-1 div.sk-parallel-item::after {content: \"\";width: 100%;border-bottom: 1px solid gray;flex-grow: 1;}#sk-container-id-1 div.sk-label:hover label.sk-toggleable__label {background-color: #d4ebff;}#sk-container-id-1 div.sk-serial::before {content: \"\";position: absolute;border-left: 1px solid gray;box-sizing: border-box;top: 0;bottom: 0;left: 50%;z-index: 0;}#sk-container-id-1 div.sk-serial {display: flex;flex-direction: column;align-items: center;background-color: white;padding-right: 0.2em;padding-left: 0.2em;position: relative;}#sk-container-id-1 div.sk-item {position: relative;z-index: 1;}#sk-container-id-1 div.sk-parallel {display: flex;align-items: stretch;justify-content: center;background-color: white;position: relative;}#sk-container-id-1 div.sk-item::before, #sk-container-id-1 div.sk-parallel-item::before {content: \"\";position: absolute;border-left: 1px solid gray;box-sizing: border-box;top: 0;bottom: 0;left: 50%;z-index: -1;}#sk-container-id-1 div.sk-parallel-item {display: flex;flex-direction: column;z-index: 1;position: relative;background-color: white;}#sk-container-id-1 div.sk-parallel-item:first-child::after {align-self: flex-end;width: 50%;}#sk-container-id-1 div.sk-parallel-item:last-child::after {align-self: flex-start;width: 50%;}#sk-container-id-1 div.sk-parallel-item:only-child::after {width: 0;}#sk-container-id-1 div.sk-dashed-wrapped {border: 1px dashed gray;margin: 0 0.4em 0.5em 0.4em;box-sizing: border-box;padding-bottom: 0.4em;background-color: white;}#sk-container-id-1 div.sk-label label {font-family: monospace;font-weight: bold;display: inline-block;line-height: 1.2em;}#sk-container-id-1 div.sk-label-container {text-align: center;}#sk-container-id-1 div.sk-container {/* jupyter's `normalize.less` sets `[hidden] { display: none; }` but bootstrap.min.css set `[hidden] { display: none !important; }` so we also need the `!important` here to be able to override the default hidden behavior on the sphinx rendered scikit-learn.org. See: https://github.com/scikit-learn/scikit-learn/issues/21755 */display: inline-block !important;position: relative;}#sk-container-id-1 div.sk-text-repr-fallback {display: none;}</style><div id=\"sk-container-id-1\" class=\"sk-top-container\"><div class=\"sk-text-repr-fallback\"><pre>SVR(C=100.0, gamma=0.1)</pre><b>In a Jupyter environment, please rerun this cell to show the HTML representation or trust the notebook. <br />On GitHub, the HTML representation is unable to render, please try loading this page with nbviewer.org.</b></div><div class=\"sk-container\" hidden><div class=\"sk-item\"><div class=\"sk-estimator sk-toggleable\"><input class=\"sk-toggleable__control sk-hidden--visually\" id=\"sk-estimator-id-1\" type=\"checkbox\" checked><label for=\"sk-estimator-id-1\" class=\"sk-toggleable__label sk-toggleable__label-arrow\">SVR</label><div class=\"sk-toggleable__content\"><pre>SVR(C=100.0, gamma=0.1)</pre></div></div></div></div></div>"
      ],
      "text/plain": [
       "SVR(C=100.0, gamma=0.1)"
      ]
     },
     "execution_count": 12,
     "metadata": {},
     "output_type": "execute_result"
    }
   ],
   "source": [
    "from sklearn.svm import SVR\n",
    "\n",
    "svr_rbf = SVR(kernel= 'rbf', C= 1e2, gamma= 0.1)\n",
    "svr_rbf.fit(X_train, y_train)"
   ]
  },
  {
   "cell_type": "code",
   "execution_count": 13,
   "metadata": {},
   "outputs": [
    {
     "name": "stdout",
     "output_type": "stream",
     "text": [
      "Train data prediction: (931, 1)\n",
      "Test data prediction: (247, 1)\n"
     ]
    }
   ],
   "source": [
    "# Lets Do the prediction \n",
    "\n",
    "train_predict=svr_rbf.predict(X_train)\n",
    "test_predict=svr_rbf.predict(X_test)\n",
    "\n",
    "train_predict = train_predict.reshape(-1,1)\n",
    "test_predict = test_predict.reshape(-1,1)\n",
    "\n",
    "print(\"Train data prediction:\", train_predict.shape)\n",
    "print(\"Test data prediction:\", test_predict.shape)"
   ]
  },
  {
   "cell_type": "code",
   "execution_count": 14,
   "metadata": {},
   "outputs": [],
   "source": [
    "# Transform back to original form\n",
    "\n",
    "train_predict = scaler.inverse_transform(train_predict)\n",
    "test_predict = scaler.inverse_transform(test_predict)\n",
    "original_ytrain = scaler.inverse_transform(y_train.reshape(-1,1)) \n",
    "original_ytest = scaler.inverse_transform(y_test.reshape(-1,1)) "
   ]
  },
  {
   "cell_type": "code",
   "execution_count": 15,
   "metadata": {},
   "outputs": [
    {
     "data": {
      "image/png": "[encoded data removed]",
      "text/plain": [
       "<Figure size 1152x432 with 1 Axes>"
      ]
     },
     "metadata": {
      "needs_background": "light"
     },
     "output_type": "display_data"
    }
   ],
   "source": [
    "# Plot the data\n",
    "# Visualize the data\n",
    "plt.figure(figsize=(16,6))\n",
    "plt.title('Model')\n",
    "plt.xlabel('Date', fontsize=18)\n",
    "plt.ylabel('Close Price USD ($)', fontsize=18)\n",
    "\n",
    "plt.plot(original_ytest)\n",
    "\n",
    "plt.plot(test_predict)\n",
    "plt.legend([ 'Val', 'Predictions'], loc='lower right')\n",
    "plt.show()"
   ]
  },
  {
   "cell_type": "code",
   "execution_count": 17,
   "metadata": {},
   "outputs": [
    {
     "name": "stdout",
     "output_type": "stream",
     "text": [
      "[5086.2742360872335, 4928.527814667954, 4823.153314488977, 4700.6717078614565, 4615.990357244409, 4537.250846070246, 4446.931821171653]\n"
     ]
    }
   ],
   "source": [
    "# Step 6: Make predictions for the next 7 days\n",
    "last_sequence = test_data[-time_step:]  # Last sequence from the testing data\n",
    "\n",
    "predicted_prices = []\n",
    " \n",
    "harga_kedepan = []\n",
    "\n",
    "banyak_prediksi= 7\n",
    "for _ in range(banyak_prediksi):\n",
    "    next_price = svr_rbf.predict(last_sequence.reshape(1, time_step))\n",
    "    predicted_prices.append(next_price)\n",
    "    last_sequence = np.append(last_sequence[1:], next_price)\n",
    "\n",
    "\n",
    "\n",
    "# Inverse transform the predicted prices to the original scale\n",
    "predicted_prices = scaler.inverse_transform(np.array(predicted_prices).reshape(-1, 1))\n",
    "\n",
    "# Print the predicted prices for the next 7 days\n",
    "# print(\"Predicted Prices for the Next 7 Days:\")\n",
    "# for price in predicted_prices:\n",
    "#     print(price[0])\n",
    "\n",
    "for price in predicted_prices:\n",
    "    harga_pred = price[0]\n",
    "    harga_kedepan.append(harga_pred)\n",
    "\n",
    "print(harga_kedepan)"
   ]
  },
  {
   "cell_type": "code",
   "execution_count": null,
   "metadata": {},
   "outputs": [],
   "source": [
    "import pandas as pd\n",
    "import numpy as np\n",
    "import math\n",
    "import datetime as dt\n",
    "from sklearn.metrics import mean_squared_error, mean_absolute_error, explained_variance_score, r2_score \n",
    "from sklearn.metrics import mean_poisson_deviance, mean_gamma_deviance, accuracy_score\n",
    "from sklearn.preprocessing import MinMaxScaler\n",
    "import matplotlib.pyplot as plt\n",
    "from sklearn.svm import SVR\n",
    "\n",
    "\n",
    "def prediksi_svr(df,lama_pred):\n",
    "    closedf = df.filter(['Close'])\n",
    "\n",
    "    scaler=MinMaxScaler(feature_range=(0,1))\n",
    "    closedf=scaler.fit_transform(np.array(closedf).reshape(-1,1))\n",
    "    training_size=int(len(closedf)*0.80)-30\n",
    "    test_size=len(closedf)-training_size\n",
    "    train_data,test_data=closedf[0:training_size,:],closedf[training_size:len(closedf),:1]\n",
    "    # convert an array of values into a dataset matrix\n",
    "    def create_dataset(dataset, time_step):\n",
    "        dataX, dataY = [], []\n",
    "        for i in range(len(dataset)-time_step-1):\n",
    "            a = dataset[i:(i+time_step), 0]   ###i=0, 0,1,2,3-----99   100 \n",
    "            dataX.append(a)\n",
    "            dataY.append(dataset[i + time_step, 0])\n",
    "        return np.array(dataX), np.array(dataY)\n",
    "    \n",
    "    time_step = 30\n",
    "    X_train, y_train = create_dataset(train_data, time_step)\n",
    "    X_test, y_test = create_dataset(test_data, time_step)\n",
    "\n",
    "\n",
    "\n",
    "    svr_rbf = SVR(kernel= 'rbf', C= 1e2, gamma= 0.1)\n",
    "    svr_rbf.fit(X_train, y_train)\n",
    "\n",
    "    # Lets Do the prediction \n",
    "\n",
    "    train_predict=svr_rbf.predict(X_train)\n",
    "    test_predict=svr_rbf.predict(X_test)\n",
    "\n",
    "    train_predict = train_predict.reshape(-1,1)\n",
    "    test_predict = test_predict.reshape(-1,1)\n",
    "\n",
    "\n",
    "    # Transform back to original form\n",
    "\n",
    "    train_predict = scaler.inverse_transform(train_predict)\n",
    "    test_predict = scaler.inverse_transform(test_predict)\n",
    "    original_ytrain = scaler.inverse_transform(y_train.reshape(-1,1)) \n",
    "    original_ytest = scaler.inverse_transform(y_test.reshape(-1,1)) \n",
    "    # Step 6: Make predictions for the next 7 days\n",
    "    last_sequence = test_data[-time_step:]  # Last sequence from the testing data\n",
    "\n",
    "    predicted_prices = []\n",
    "\n",
    "    harga_kedepan = []\n",
    "\n",
    "    banyak_prediksi= lama_pred\n",
    "    for _ in range(banyak_prediksi):\n",
    "        next_price = svr_rbf.predict(last_sequence.reshape(1, time_step))\n",
    "        predicted_prices.append(next_price)\n",
    "        last_sequence = np.append(last_sequence[1:], next_price)\n",
    "\n",
    "\n",
    "\n",
    "    # Inverse transform the predicted prices to the original scale\n",
    "    predicted_prices = scaler.inverse_transform(np.array(predicted_prices).reshape(-1, 1))\n",
    "\n",
    "    # Print the predicted prices for the next 7 days\n",
    "    # print(\"Predicted Prices for the Next 7 Days:\")\n",
    "    # for price in predicted_prices:\n",
    "    #     print(price[0])\n",
    "\n",
    "    for price in predicted_prices:\n",
    "        harga_pred = price[0]\n",
    "        harga_kedepan.append(harga_pred)\n",
    "\n",
    "\n",
    "    return(harga_kedepan,test_predict)\n",
    "\n",
    "\n",
    "\n",
    "\n",
    "\n",
    "\n"
   ]
  }
 ],
 "metadata": {
  "kernelspec": {
   "display_name": "Python 3",
   "language": "python",
   "name": "python3"
  },
  "language_info": {
   "codemirror_mode": {
    "name": "ipython",
    "version": 3
   },
   "file_extension": ".py",
   "mimetype": "text/x-python",
   "name": "python",
   "nbconvert_exporter": "python",
   "pygments_lexer": "ipython3",
   "version": "3.8.8"
  },
  "orig_nbformat": 4
 },
 "nbformat": 4,
 "nbformat_minor": 2
}
